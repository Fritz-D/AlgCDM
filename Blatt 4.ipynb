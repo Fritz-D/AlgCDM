{
 "cells": [
  {
   "cell_type": "code",
   "execution_count": null,
   "metadata": {},
   "outputs": [],
   "source": [
    "import numpy as np"
   ]
  },
  {
   "cell_type": "code",
   "execution_count": null,
   "metadata": {},
   "outputs": [],
   "source": [
    "# profile for 6.a\n",
    "votes = []\n",
    "votes += 2 * [[1, 1, 1] + [0]*11]\n",
    "votes += 2 * [[1, 1, 0, 1] + [0]*10]\n",
    "votes += 6 * [[0]*2 + [1]*12]\n",
    "votes += 5 * [[0]*3 + [1]*11]\n",
    "votes += 9 * [[0]*4 + [1]*10]\n",
    "candidates = [\"a\", \"b\"] + [\"$c_{\"+str(i+1)+\"}$\" for i in range(0,12)]\n",
    "k = 12"
   ]
  },
  {
   "cell_type": "code",
   "execution_count": null,
   "metadata": {},
   "outputs": [
    {
     "name": "stdout",
     "output_type": "stream",
     "text": [
      "t&a&b&$c_{1}$&$c_{2}$&$c_{3}$&$c_{4}$&$c_{5}$&$c_{6}$&$c_{7}$&$c_{8}$&$c_{9}$&$c_{10}$&$c_{11}$&$c_{12}$&bought\\\\\n",
      "0.05&0.20&0.20&0.40&0.65&1.00&1.00&1.00&1.00&1.00&1.00&1.00&1.00&1.00&1.00&$c_{3}$\\\\\n",
      "0.10&0.40&0.40&0.50&0.75&-&1.00&1.00&1.00&1.00&1.00&1.00&1.00&1.00&1.00&$c_{4}$\\\\\n",
      "0.15&0.60&0.60&0.60&0.85&-&-&1.00&1.00&1.00&1.00&1.00&1.00&1.00&1.00&$c_{5}$\\\\\n",
      "0.20&0.80&0.80&0.70&0.95&-&-&-&1.00&1.00&1.00&1.00&1.00&1.00&1.00&$c_{6}$\\\\\n",
      "0.25&0.98&0.98&0.77&1.00&-&-&-&-&0.92&0.92&0.92&0.92&0.92&0.92&$c_{2}$\\\\\n",
      "0.28&0.61&0.61&0.73&-&-&-&-&-&1.00&1.00&1.00&1.00&1.00&1.00&$c_{7}$\\\\\n",
      "0.33&0.81&0.81&0.95&-&-&-&-&-&-&1.00&1.00&1.00&1.00&1.00&$c_{8}$\\\\\n",
      "0.37&0.98&0.98&1.00&-&-&-&-&-&-&-&0.87&0.87&0.87&0.87&$c_{1}$\\\\\n",
      "0.39&0.32&0.32&-&-&-&-&-&-&-&-&1.00&1.00&1.00&1.00&$c_{9}$\\\\\n",
      "0.44&0.52&0.52&-&-&-&-&-&-&-&-&-&1.00&1.00&1.00&$c_{10}$\\\\\n",
      "0.49&0.72&0.72&-&-&-&-&-&-&-&-&-&-&1.00&1.00&$c_{11}$\\\\\n",
      "0.54&0.92&0.92&-&-&-&-&-&-&-&-&-&-&-&1.00&$c_{12}$\\\\\n"
     ]
    }
   ],
   "source": [
    "# seq-phragmen\n",
    "budgets = np.tile(0.0, len(votes))\n",
    "c_to_v = {c: [] for c in candidates}\n",
    "for v_i, vote in enumerate(votes):\n",
    "    for c_i, approval in enumerate(vote):\n",
    "        if approval:\n",
    "            c_to_v[candidates[c_i]] += [v_i]\n",
    "\n",
    "W = []\n",
    "available = candidates.copy()\n",
    "totaltime = 0\n",
    "print(\"t\", end=\"&\")\n",
    "for c in candidates:\n",
    "    print(c, end=\"&\")\n",
    "print(\"bought\", end=\"\\\\\\\\\\n\")\n",
    "while len(W) < 12:\n",
    "    mintime = 10\n",
    "    mincand = []\n",
    "    for c in available:\n",
    "        time = (1 - sum([budgets[v] for v in c_to_v[c]])) / len(c_to_v[c])\n",
    "        if mintime > time:\n",
    "            mintime = time\n",
    "            mincand = []\n",
    "        mincand += [c]\n",
    "    tobuy = mincand[0]\n",
    "    totaltime += mintime\n",
    "    budgets += mintime\n",
    "    print(f\"{totaltime:1.2f}\", end=\"&\")\n",
    "    for c in candidates:\n",
    "        budget = sum([budgets[v] for v in c_to_v[c]])\n",
    "        if c in available:\n",
    "            print(f\"{budget:1.2f}\", end=\"&\")\n",
    "        else:\n",
    "            print(\"-\", end=\"&\")\n",
    "    print(f\"{tobuy}\", end=\"\\\\\\\\\\n\")\n",
    "    for v in c_to_v[tobuy]:\n",
    "        budgets[v] = 0\n",
    "    available.remove(tobuy)\n",
    "    W += [tobuy]"
   ]
  }
 ],
 "metadata": {
  "kernelspec": {
   "display_name": "f2c",
   "language": "python",
   "name": "python3"
  },
  "language_info": {
   "codemirror_mode": {
    "name": "ipython",
    "version": 3
   },
   "file_extension": ".py",
   "mimetype": "text/x-python",
   "name": "python",
   "nbconvert_exporter": "python",
   "pygments_lexer": "ipython3",
   "version": "3.10.14"
  }
 },
 "nbformat": 4,
 "nbformat_minor": 2
}
