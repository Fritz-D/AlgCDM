{
 "cells": [
  {
   "cell_type": "code",
   "execution_count": 30,
   "metadata": {},
   "outputs": [
    {
     "name": "stdout",
     "output_type": "stream",
     "text": [
      "Original scores\n",
      "{'g': 22, 'f': 21, 'e': 20, 'd': 19, 'c': 18, 'a': 5, 'b': 0}\n",
      "{'g': 22, 'f': 22, 'e': 22, 'd': 22, 'c': 22, 'a': 11, 'b': 5}\n",
      "{'g': 26, 'f': 25, 'e': 24, 'd': 23, 'c': 22, 'a': 17, 'b': 10}\n",
      "{'g': 26, 'f': 26, 'e': 26, 'd': 26, 'c': 26, 'a': 23, 'b': 15}\n",
      "{'g': 30, 'f': 29, 'a': 29, 'e': 28, 'd': 27, 'c': 26, 'b': 20}\n",
      "{'a': 35, 'g': 30, 'f': 30, 'e': 30, 'd': 30, 'c': 30, 'b': 25}\n",
      "[\n",
      "    ['g', 'f', 'e', 'd', 'c', 'a', 'b'],\n",
      "    ['g', 'f', 'e', 'd', 'c', 'a', 'b'],\n",
      "    ['g', 'f', 'e', 'd', 'c', 'a', 'b'],\n",
      "    ['c', 'd', 'e', 'f', 'g', 'a', 'b'],\n",
      "    ['c', 'd', 'e', 'f', 'g', 'a', 'b'],\n",
      "    ['a', 'b', 'c', 'd', 'e', 'f', 'g'],\n",
      "    ['a', 'b', 'g', 'f', 'e', 'd', 'c'],\n",
      "    ['a', 'b', 'c', 'd', 'e', 'f', 'g'],\n",
      "    ['a', 'b', 'g', 'f', 'e', 'd', 'c'],\n",
      "    ['a', 'b', 'c', 'd', 'e', 'f', 'g'],\n",
      "]\n"
     ]
    }
   ],
   "source": [
    "profiles = [\n",
    "    [\"g\", \"f\", \"e\", \"d\", \"c\", \"a\", \"b\"],\n",
    "    [\"g\", \"f\", \"e\", \"d\", \"c\", \"a\", \"b\"],\n",
    "    [\"g\", \"f\", \"e\", \"d\", \"c\", \"a\", \"b\"],\n",
    "    [\"c\", \"d\", \"e\", \"f\", \"g\", \"a\", \"b\"],\n",
    "    [\"c\", \"d\", \"e\", \"f\", \"g\", \"a\", \"b\"],\n",
    "]\n",
    "\n",
    "scorevec_borda = list(range(len(profiles[0])-1, -1, -1))\n",
    "scorevec = scorevec_borda\n",
    "\n",
    "scores = {}\n",
    "for candidate in profiles[0]:\n",
    "    scores[candidate] = 0\n",
    "\n",
    "for profile in profiles:\n",
    "    for index, candidate in enumerate(profile):\n",
    "        scores[candidate] += scorevec[index]\n",
    "\n",
    "print(\"Original scores\")\n",
    "print(scores)\n",
    "\n",
    "# make 'a' win\n",
    "while max(scores, key=scores.get) != 'a':\n",
    "    srt = dict(sorted(scores.items(), key=lambda item: item[1]))\n",
    "    srt.pop(\"a\")\n",
    "    profiles.append([\"a\"] + list(srt.keys()))\n",
    "\n",
    "    scores = {}\n",
    "    for candidate in profiles[0]:\n",
    "        scores[candidate] = 0\n",
    "        \n",
    "    for profile in profiles:\n",
    "        for index, candidate in enumerate(profile):\n",
    "            scores[candidate] += scorevec[index]\n",
    "    print(dict(sorted(scores.items(), key=lambda item: item[1], reverse=True)))\n",
    "\n",
    "print(\"[\")\n",
    "for profile in profiles:\n",
    "    print(\"    \" + str(profile) + \",\")\n",
    "print(\"]\")"
   ]
  },
  {
   "cell_type": "code",
   "execution_count": 4,
   "metadata": {},
   "outputs": [
    {
     "name": "stdout",
     "output_type": "stream",
     "text": [
      "Original scores\n",
      "{'g': 30, 'f': 30, 'e': 30, 'd': 30, 'c': 30, 'a': 35, 'b': 25}\n"
     ]
    }
   ],
   "source": [
    "profiles = \\\n",
    "[\n",
    "    ['g', 'f', 'e', 'd', 'c', 'a', 'b'],\n",
    "    ['g', 'f', 'e', 'd', 'c', 'a', 'b'],\n",
    "    ['g', 'f', 'e', 'd', 'c', 'a', 'b'],\n",
    "    ['c', 'd', 'e', 'f', 'g', 'a', 'b'],\n",
    "    ['c', 'd', 'e', 'f', 'g', 'a', 'b'],\n",
    "    \n",
    "    ['a', 'b', 'c', 'd', 'e', 'f', 'g'],\n",
    "    ['a', 'b', 'g', 'f', 'e', 'd', 'c'],\n",
    "    ['a', 'b', 'c', 'd', 'e', 'f', 'g'],\n",
    "    ['a', 'b', 'g', 'f', 'e', 'd', 'c'],\n",
    "    ['a', 'b', 'c', 'd', 'e', 'f', 'g'],\n",
    "]\n",
    "\n",
    "scorevec_borda = list(range(len(profiles[0])-1, -1, -1))\n",
    "scorevec = scorevec_borda\n",
    "\n",
    "scores = {}\n",
    "for candidate in profiles[0]:\n",
    "    scores[candidate] = 0\n",
    "\n",
    "for profile in profiles:\n",
    "    for index, candidate in enumerate(profile):\n",
    "        scores[candidate] += scorevec[index]\n",
    "\n",
    "print(\"Original scores\")\n",
    "print(scores)\n"
   ]
  },
  {
   "cell_type": "code",
   "execution_count": 3,
   "metadata": {},
   "outputs": [
    {
     "name": "stdout",
     "output_type": "stream",
     "text": [
      "Original scores\n",
      "{'g': 37, 'f': 36, 'e': 35, 'd': 34, 'c': 33, 'a': 41, 'b': 15}\n"
     ]
    }
   ],
   "source": [
    "profiles = \\\n",
    "[\n",
    "    ['g', 'f', 'e', 'd', 'c', 'a', 'b'],\n",
    "    ['g', 'f', 'e', 'd', 'c', 'a', 'b'],\n",
    "    ['g', 'f', 'e', 'd', 'c', 'a', 'b'],\n",
    "    ['c', 'd', 'e', 'f', 'g', 'a', 'b'],\n",
    "    ['c', 'd', 'e', 'f', 'g', 'a', 'b'],\n",
    "\n",
    "    [\"a\", \"b\", \"c\", \"d\", \"e\", \"f\", \"g\"],\n",
    "    [\"a\", \"g\", \"f\", \"e\", \"d\", \"c\", \"b\"],\n",
    "    [\"a\", \"b\", \"c\", \"d\", \"e\", \"f\", \"g\"],\n",
    "    [\"a\", \"g\", \"f\", \"e\", \"d\", \"c\", \"b\"],\n",
    "    [\"a\", \"b\", \"c\", \"d\", \"e\", \"f\", \"g\"],\n",
    "    [\"a\", \"g\", \"f\", \"e\", \"d\", \"c\", \"b\"],\n",
    "]\n",
    "\n",
    "scorevec_borda = list(range(len(profiles[0])-1, -1, -1))\n",
    "scorevec = scorevec_borda\n",
    "\n",
    "scores = {}\n",
    "for candidate in profiles[0]:\n",
    "    scores[candidate] = 0\n",
    "\n",
    "for profile in profiles:\n",
    "    for index, candidate in enumerate(profile):\n",
    "        scores[candidate] += scorevec[index]\n",
    "\n",
    "print(\"Original scores\")\n",
    "print(scores)"
   ]
  }
 ],
 "metadata": {
  "kernelspec": {
   "display_name": "f2c",
   "language": "python",
   "name": "python3"
  },
  "language_info": {
   "codemirror_mode": {
    "name": "ipython",
    "version": 3
   },
   "file_extension": ".py",
   "mimetype": "text/x-python",
   "name": "python",
   "nbconvert_exporter": "python",
   "pygments_lexer": "ipython3",
   "version": "3.10.14"
  }
 },
 "nbformat": 4,
 "nbformat_minor": 2
}
